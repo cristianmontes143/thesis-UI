{
 "cells": [
  {
   "cell_type": "code",
   "execution_count": 13,
   "metadata": {},
   "outputs": [
    {
     "name": "stdout",
     "output_type": "stream",
     "text": [
      "Libraries are Loaded\n"
     ]
    }
   ],
   "source": [
    "import pandas as pd\n",
    "import re\n",
    "from nltk.stem import WordNetLemmatizer\n",
    "from nltk.corpus import stopwords\n",
    "print(\"Libraries are Loaded\")"
   ]
  },
  {
   "cell_type": "code",
   "execution_count": 14,
   "metadata": {},
   "outputs": [],
   "source": [
    "# Load the CSV data into a DataFrame\n",
    "data = pd.read_csv('FFData.csv')"
   ]
  },
  {
   "cell_type": "code",
   "execution_count": 15,
   "metadata": {},
   "outputs": [],
   "source": [
    "def clean_text(text):\n",
    "    # Check if the input is a string\n",
    "    if isinstance(text, str):\n",
    "        # Remove HTML tags\n",
    "        text = re.sub(r'<.*?>', '', text)\n",
    "\n",
    "        # Remove punctuation\n",
    "        text = re.sub(r'[^\\w\\s]', '', text)\n",
    "\n",
    "        # Removes Numbers\n",
    "        text = re.sub(r\"[0-9]+\", \"\", text)\n",
    "\n",
    "        # Convert text to lowercase\n",
    "        text = text.lower()\n",
    "\n",
    "        # Remove stop words\n",
    "        stop_words = set(stopwords.words('english'))\n",
    "        text = [word for word in text.split() if word not in stop_words]\n",
    "        \n",
    "\n",
    "        # Lemmatize the words\n",
    "        lemmatizer = WordNetLemmatizer()\n",
    "        text = [lemmatizer.lemmatize(word) for word in text]\n",
    "\n",
    "        # Join the words back into a string\n",
    "        text = ' '.join(text)\n",
    "\n",
    "        return text\n",
    "    else:\n",
    "        # If the input is not a string, return an empty string\n",
    "        return ''\n",
    "\n",
    "def removeWords(text):\n",
    "    # Add the specific words you want to remove\n",
    "    specific_words_to_remove = [\"case\", \"study\", \"thesis\", \"research\", \"method\", \"approach\", \"technique\", \"procedure\", \"result\", \"finding\", \"conclusion\", \"observation\", \"implication\", \"significance\", \"limitation\", \"future work\", \"data\", \"computer\", \"caraga\", \"state\", \"university\", \"normisist\", \"government\", \"cabadbaran\", \"butuan\", \"city\"]\n",
    "    text = [word for word in text.split() if word not in specific_words_to_remove]\n",
    "    \n",
    "    return text"
   ]
  },
  {
   "cell_type": "code",
   "execution_count": 16,
   "metadata": {},
   "outputs": [],
   "source": [
    "# Preprocess the 'Title' and 'Abstract' columns\n",
    "data['Title'] = data['Title'].apply(clean_text)\n",
    "data['Abstract'] = data['Abstract'].apply(clean_text)\n",
    "\n",
    "data['Title'] = data['Title'].apply(removeWords)\n",
    "data['Abstract'] = data['Abstract'].apply(removeWords)"
   ]
  },
  {
   "cell_type": "code",
   "execution_count": 17,
   "metadata": {},
   "outputs": [
    {
     "data": {
      "text/html": [
       "<div>\n",
       "<style scoped>\n",
       "    .dataframe tbody tr th:only-of-type {\n",
       "        vertical-align: middle;\n",
       "    }\n",
       "\n",
       "    .dataframe tbody tr th {\n",
       "        vertical-align: top;\n",
       "    }\n",
       "\n",
       "    .dataframe thead th {\n",
       "        text-align: right;\n",
       "    }\n",
       "</style>\n",
       "<table border=\"1\" class=\"dataframe\">\n",
       "  <thead>\n",
       "    <tr style=\"text-align: right;\">\n",
       "      <th></th>\n",
       "      <th>Title</th>\n",
       "      <th>Abstract</th>\n",
       "    </tr>\n",
       "  </thead>\n",
       "  <tbody>\n",
       "    <tr>\n",
       "      <th>0</th>\n",
       "      <td>[driver, license, process, land, transportatio...</td>\n",
       "      <td>[driver, license, process, studied, understand...</td>\n",
       "    </tr>\n",
       "    <tr>\n",
       "      <th>1</th>\n",
       "      <td>[poultry, egg, production, business]</td>\n",
       "      <td>[poultry, egg, production, business, studied, ...</td>\n",
       "    </tr>\n",
       "    <tr>\n",
       "      <th>2</th>\n",
       "      <td>[design, development, fire, detection, alarm, ...</td>\n",
       "      <td>[fire, detection, alarm, system, prototype, ba...</td>\n",
       "    </tr>\n",
       "    <tr>\n",
       "      <th>3</th>\n",
       "      <td>[knowledgebased, system, n, matching, tree, pl...</td>\n",
       "      <td>[knowledgebased, system, matching, tree, plant...</td>\n",
       "    </tr>\n",
       "    <tr>\n",
       "      <th>4</th>\n",
       "      <td>[design, development, memorandum, prioritizati...</td>\n",
       "      <td>[memorandum, mean, interoffice, correspondence...</td>\n",
       "    </tr>\n",
       "  </tbody>\n",
       "</table>\n",
       "</div>"
      ],
      "text/plain": [
       "                                               Title  \\\n",
       "0  [driver, license, process, land, transportatio...   \n",
       "1               [poultry, egg, production, business]   \n",
       "2  [design, development, fire, detection, alarm, ...   \n",
       "3  [knowledgebased, system, n, matching, tree, pl...   \n",
       "4  [design, development, memorandum, prioritizati...   \n",
       "\n",
       "                                            Abstract  \n",
       "0  [driver, license, process, studied, understand...  \n",
       "1  [poultry, egg, production, business, studied, ...  \n",
       "2  [fire, detection, alarm, system, prototype, ba...  \n",
       "3  [knowledgebased, system, matching, tree, plant...  \n",
       "4  [memorandum, mean, interoffice, correspondence...  "
      ]
     },
     "execution_count": 17,
     "metadata": {},
     "output_type": "execute_result"
    }
   ],
   "source": [
    "data.head()"
   ]
  },
  {
   "cell_type": "code",
   "execution_count": 18,
   "metadata": {},
   "outputs": [
    {
     "name": "stdout",
     "output_type": "stream",
     "text": [
      "Data save Sucessfully\n"
     ]
    }
   ],
   "source": [
    "# Save the preprocessed data to a new CSV file\n",
    "data.to_csv('preprocessed_data.csv', index=False)\n",
    "print(\"Data save Sucessfully\")"
   ]
  }
 ],
 "metadata": {
  "kernelspec": {
   "display_name": "Python 3",
   "language": "python",
   "name": "python3"
  },
  "language_info": {
   "codemirror_mode": {
    "name": "ipython",
    "version": 3
   },
   "file_extension": ".py",
   "mimetype": "text/x-python",
   "name": "python",
   "nbconvert_exporter": "python",
   "pygments_lexer": "ipython3",
   "version": "3.10.5"
  }
 },
 "nbformat": 4,
 "nbformat_minor": 2
}
