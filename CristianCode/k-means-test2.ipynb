{
 "cells": [
  {
   "cell_type": "code",
   "execution_count": 21,
   "metadata": {},
   "outputs": [],
   "source": [
    "import pandas as pd\n",
    "from sklearn.cluster import KMeans\n",
    "from sklearn.metrics import silhouette_score\n",
    "from scipy.sparse import csr_matrix\n",
    "\n",
    "# Load the vectorized data\n",
    "import pickle\n",
    "\n",
    "import numpy as np\n",
    "import matplotlib.pyplot as plt\n",
    "from sklearn.manifold import TSNE"
   ]
  },
  {
   "cell_type": "code",
   "execution_count": 22,
   "metadata": {},
   "outputs": [],
   "source": [
    "with open('title_vectors.pkl', 'rb') as f:\n",
    "    title_vectors = pickle.load(f)\n",
    "\n",
    "with open('abstract_vectors.pkl', 'rb') as f:\n",
    "    abstract_vectors = pickle.load(f)"
   ]
  },
  {
   "cell_type": "code",
   "execution_count": 23,
   "metadata": {},
   "outputs": [],
   "source": [
    "# Combine the title and abstract vectors\n",
    "combined_vectors = np.vstack((title_vectors, abstract_vectors))  # Fixed the typo in vstack\n"
   ]
  },
  {
   "cell_type": "code",
   "execution_count": 24,
   "metadata": {},
   "outputs": [],
   "source": [
    "def visualize_clusters(combined_vectors, labels):\n",
    "    # Perform t-SNE dimensionality reduction\n",
    "    tsne = TSNE(n_components=2)\n",
    "    tsne_vectors = tsne.fit_transform(combined_vectors)\n",
    "\n",
    "    # Visualize the clusters using a scatter plot\n",
    "    plt.scatter(tsne_vectors[:, 0], tsne_vectors[:, 1], c=labels)\n",
    "    plt.title(\"Cluster Visualization\")\n",
    "    plt.show()\n",
    "\n",
    "def create_elbow_plot(combined_vectors):\n",
    "    # Calculate the within-cluster sum of squares (WCSS) for a range of k values\n",
    "    k_range = range(2, 100)\n",
    "    wcss = []\n",
    "\n",
    "    for k in k_range:\n",
    "        kmeans = KMeans(n_clusters=k)\n",
    "        kmeans.fit(combined_vectors)\n",
    "        wcss.append(kmeans.inertia_)\n",
    "\n",
    "    # Plot the elbow plot\n",
    "    plt.plot(k_range, wcss)\n",
    "    plt.title(\"Elbow Plot\")\n",
    "    plt.xlabel(\"Number of Clusters (k)\")\n",
    "    plt.ylabel(\"Within-Cluster Sum of Squares (WCSS)\")\n",
    "    plt.show()\n",
    "    \n",
    "def calculate_cohesion(data, labels):\n",
    "    cohesion_scores = []\n",
    "    for cluster_label in np.unique(labels):\n",
    "        cluster_data = data[labels == cluster_label]\n",
    "        pairwise_distances = np.linalg.norm(cluster_data[:, np.newaxis] - cluster_data, axis=2)\n",
    "        average_distance = np.mean(pairwise_distances)\n",
    "        cohesion_scores.append(average_distance)\n",
    "    return np.mean(cohesion_scores)  # Fixed the calculation of cohesion\n",
    "\n",
    "def calculate_separation(data, labels):\n",
    "    separation_scores = []\n",
    "    for cluster1_label in np.unique(labels):\n",
    "        cluster1_data = data[labels == cluster1_label]\n",
    "        for cluster2_label in np.unique(labels):\n",
    "            if cluster1_label != cluster2_label:\n",
    "                cluster2_data = data[labels == cluster2_label]\n",
    "                pairwise_distances = np.linalg.norm(cluster1_data[:, np.newaxis] - cluster2_data, axis=2)\n",
    "                average_distance = np.mean(pairwise_distances)\n",
    "                separation_scores.append(average_distance)\n",
    "    return np.mean(separation_scores)  # Fixed the calculation of separation\n"
   ]
  },
  {
   "cell_type": "code",
   "execution_count": 25,
   "metadata": {},
   "outputs": [
    {
     "ename": "ValueError",
     "evalue": "setting an array element with a sequence.",
     "output_type": "error",
     "traceback": [
      "\u001b[1;31m---------------------------------------------------------------------------\u001b[0m",
      "\u001b[1;31mTypeError\u001b[0m                                 Traceback (most recent call last)",
      "\u001b[1;31mTypeError\u001b[0m: float() argument must be a string or a real number, not 'csr_matrix'",
      "\nThe above exception was the direct cause of the following exception:\n",
      "\u001b[1;31mValueError\u001b[0m                                Traceback (most recent call last)",
      "\u001b[1;32mc:\\2nd-3rd-4th year\\4th year\\first semester\\thesis 2\\CristianCode\\K-meanssssss.ipynb Cell 5\u001b[0m line \u001b[0;36m1\n\u001b[0;32m     <a href='vscode-notebook-cell:/c%3A/2nd-3rd-4th%20year/4th%20year/first%20semester/thesis%202/CristianCode/K-meanssssss.ipynb#W4sZmlsZQ%3D%3D?line=11'>12</a>\u001b[0m \u001b[39mfor\u001b[39;00m k \u001b[39min\u001b[39;00m ks:\n\u001b[0;32m     <a href='vscode-notebook-cell:/c%3A/2nd-3rd-4th%20year/4th%20year/first%20semester/thesis%202/CristianCode/K-meanssssss.ipynb#W4sZmlsZQ%3D%3D?line=12'>13</a>\u001b[0m     kmeans \u001b[39m=\u001b[39m KMeans(n_clusters\u001b[39m=\u001b[39mk)\n\u001b[1;32m---> <a href='vscode-notebook-cell:/c%3A/2nd-3rd-4th%20year/4th%20year/first%20semester/thesis%202/CristianCode/K-meanssssss.ipynb#W4sZmlsZQ%3D%3D?line=13'>14</a>\u001b[0m     kmeans\u001b[39m.\u001b[39;49mfit(combined_vectors)\n\u001b[0;32m     <a href='vscode-notebook-cell:/c%3A/2nd-3rd-4th%20year/4th%20year/first%20semester/thesis%202/CristianCode/K-meanssssss.ipynb#W4sZmlsZQ%3D%3D?line=14'>15</a>\u001b[0m     silhouettes\u001b[39m.\u001b[39mappend(silhouette_score(combined_vectors, kmeans\u001b[39m.\u001b[39mlabels_))\n\u001b[0;32m     <a href='vscode-notebook-cell:/c%3A/2nd-3rd-4th%20year/4th%20year/first%20semester/thesis%202/CristianCode/K-meanssssss.ipynb#W4sZmlsZQ%3D%3D?line=15'>16</a>\u001b[0m     cluster_centers_list\u001b[39m.\u001b[39mappend(kmeans\u001b[39m.\u001b[39mcluster_centers_)\n",
      "File \u001b[1;32m~\\AppData\\Roaming\\Python\\Python310\\site-packages\\sklearn\\cluster\\_kmeans.py:1137\u001b[0m, in \u001b[0;36mKMeans.fit\u001b[1;34m(self, X, y, sample_weight)\u001b[0m\n\u001b[0;32m   1111\u001b[0m \u001b[39mdef\u001b[39;00m \u001b[39mfit\u001b[39m(\u001b[39mself\u001b[39m, X, y\u001b[39m=\u001b[39m\u001b[39mNone\u001b[39;00m, sample_weight\u001b[39m=\u001b[39m\u001b[39mNone\u001b[39;00m):\n\u001b[0;32m   1112\u001b[0m \u001b[39m    \u001b[39m\u001b[39m\"\"\"Compute k-means clustering.\u001b[39;00m\n\u001b[0;32m   1113\u001b[0m \n\u001b[0;32m   1114\u001b[0m \u001b[39m    Parameters\u001b[39;00m\n\u001b[1;32m   (...)\u001b[0m\n\u001b[0;32m   1135\u001b[0m \u001b[39m        Fitted estimator.\u001b[39;00m\n\u001b[0;32m   1136\u001b[0m \u001b[39m    \"\"\"\u001b[39;00m\n\u001b[1;32m-> 1137\u001b[0m     X \u001b[39m=\u001b[39m \u001b[39mself\u001b[39;49m\u001b[39m.\u001b[39;49m_validate_data(\n\u001b[0;32m   1138\u001b[0m         X,\n\u001b[0;32m   1139\u001b[0m         accept_sparse\u001b[39m=\u001b[39;49m\u001b[39m\"\u001b[39;49m\u001b[39mcsr\u001b[39;49m\u001b[39m\"\u001b[39;49m,\n\u001b[0;32m   1140\u001b[0m         dtype\u001b[39m=\u001b[39;49m[np\u001b[39m.\u001b[39;49mfloat64, np\u001b[39m.\u001b[39;49mfloat32],\n\u001b[0;32m   1141\u001b[0m         order\u001b[39m=\u001b[39;49m\u001b[39m\"\u001b[39;49m\u001b[39mC\u001b[39;49m\u001b[39m\"\u001b[39;49m,\n\u001b[0;32m   1142\u001b[0m         copy\u001b[39m=\u001b[39;49m\u001b[39mself\u001b[39;49m\u001b[39m.\u001b[39;49mcopy_x,\n\u001b[0;32m   1143\u001b[0m         accept_large_sparse\u001b[39m=\u001b[39;49m\u001b[39mFalse\u001b[39;49;00m,\n\u001b[0;32m   1144\u001b[0m     )\n\u001b[0;32m   1146\u001b[0m     \u001b[39mself\u001b[39m\u001b[39m.\u001b[39m_check_params(X)\n\u001b[0;32m   1147\u001b[0m     random_state \u001b[39m=\u001b[39m check_random_state(\u001b[39mself\u001b[39m\u001b[39m.\u001b[39mrandom_state)\n",
      "File \u001b[1;32m~\\AppData\\Roaming\\Python\\Python310\\site-packages\\sklearn\\base.py:566\u001b[0m, in \u001b[0;36mBaseEstimator._validate_data\u001b[1;34m(self, X, y, reset, validate_separately, **check_params)\u001b[0m\n\u001b[0;32m    564\u001b[0m     \u001b[39mraise\u001b[39;00m \u001b[39mValueError\u001b[39;00m(\u001b[39m\"\u001b[39m\u001b[39mValidation should be done on X, y or both.\u001b[39m\u001b[39m\"\u001b[39m)\n\u001b[0;32m    565\u001b[0m \u001b[39melif\u001b[39;00m \u001b[39mnot\u001b[39;00m no_val_X \u001b[39mand\u001b[39;00m no_val_y:\n\u001b[1;32m--> 566\u001b[0m     X \u001b[39m=\u001b[39m check_array(X, \u001b[39m*\u001b[39m\u001b[39m*\u001b[39mcheck_params)\n\u001b[0;32m    567\u001b[0m     out \u001b[39m=\u001b[39m X\n\u001b[0;32m    568\u001b[0m \u001b[39melif\u001b[39;00m no_val_X \u001b[39mand\u001b[39;00m \u001b[39mnot\u001b[39;00m no_val_y:\n",
      "File \u001b[1;32m~\\AppData\\Roaming\\Python\\Python310\\site-packages\\sklearn\\utils\\validation.py:746\u001b[0m, in \u001b[0;36mcheck_array\u001b[1;34m(array, accept_sparse, accept_large_sparse, dtype, order, copy, force_all_finite, ensure_2d, allow_nd, ensure_min_samples, ensure_min_features, estimator)\u001b[0m\n\u001b[0;32m    744\u001b[0m         array \u001b[39m=\u001b[39m array\u001b[39m.\u001b[39mastype(dtype, casting\u001b[39m=\u001b[39m\u001b[39m\"\u001b[39m\u001b[39munsafe\u001b[39m\u001b[39m\"\u001b[39m, copy\u001b[39m=\u001b[39m\u001b[39mFalse\u001b[39;00m)\n\u001b[0;32m    745\u001b[0m     \u001b[39melse\u001b[39;00m:\n\u001b[1;32m--> 746\u001b[0m         array \u001b[39m=\u001b[39m np\u001b[39m.\u001b[39;49masarray(array, order\u001b[39m=\u001b[39;49morder, dtype\u001b[39m=\u001b[39;49mdtype)\n\u001b[0;32m    747\u001b[0m \u001b[39mexcept\u001b[39;00m ComplexWarning \u001b[39mas\u001b[39;00m complex_warning:\n\u001b[0;32m    748\u001b[0m     \u001b[39mraise\u001b[39;00m \u001b[39mValueError\u001b[39;00m(\n\u001b[0;32m    749\u001b[0m         \u001b[39m\"\u001b[39m\u001b[39mComplex data not supported\u001b[39m\u001b[39m\\n\u001b[39;00m\u001b[39m{}\u001b[39;00m\u001b[39m\\n\u001b[39;00m\u001b[39m\"\u001b[39m\u001b[39m.\u001b[39mformat(array)\n\u001b[0;32m    750\u001b[0m     ) \u001b[39mfrom\u001b[39;00m \u001b[39mcomplex_warning\u001b[39;00m\n",
      "\u001b[1;31mValueError\u001b[0m: setting an array element with a sequence."
     ]
    }
   ],
   "source": [
    "# Perform iterative clustering with silhouette score as its metric\n",
    "silhouettes = []\n",
    "cluster_centers_list = []\n",
    "ks = range(2, 11)  # Specify the range of k values to evaluate\n",
    "\n",
    "# Check if it's a sparse matrix\n",
    "if isinstance(combined_vectors, csr_matrix):\n",
    "    dense_combined_vectors = combined_vectors.toarray()  # Convert sparse matrix to dense array for visualization\n",
    "else:\n",
    "    dense_combined_vectors = combined_vectors  # It's already a dense array\n",
    "\n",
    "for k in ks:\n",
    "    kmeans = KMeans(n_clusters=k)\n",
    "    kmeans.fit(combined_vectors)\n",
    "    silhouettes.append(silhouette_score(combined_vectors, kmeans.labels_))\n",
    "    cluster_centers_list.append(kmeans.cluster_centers_)\n",
    "\n",
    "# Find the optimal number of clusters based on silhouette score\n",
    "best_k = ks[silhouettes.index(max(silhouettes))]\n",
    "\n",
    "# Obtain y_predicted and cluster_centers for the optimal number of clusters\n",
    "kmeans = KMeans(n_clusters=best_k)\n",
    "kmeans.fit(combined_vectors)\n",
    "y_predicted = kmeans.labels_\n",
    "cluster_centers = kmeans.cluster_centers_\n",
    "\n",
    "# Visualize the clusters using the dense array for t-SNE\n",
    "visualize_clusters(dense_combined_vectors, y_predicted)"
   ]
  },
  {
   "cell_type": "code",
   "execution_count": null,
   "metadata": {},
   "outputs": [],
   "source": [
    "# Evaluate the clustering using silhouette score, cohesion, and separation\n",
    "silhouette_avg = silhouette_score(combined_vectors, kmeans.labels_)\n",
    "cohesion_avg = calculate_cohesion(combined_vectors, kmeans.labels_)\n",
    "separation_avg = calculate_separation(combined_vectors, kmeans.labels_)\n",
    "\n",
    "print(\"Silhouette score:\", silhouette_avg)\n",
    "print(\"Cohesion:\", cohesion_avg)\n",
    "print(\"Separation:\", separation_avg)"
   ]
  },
  {
   "cell_type": "code",
   "execution_count": null,
   "metadata": {},
   "outputs": [],
   "source": [
    "# Visualize the clusters\n",
    "visualize_clusters(combined_vectors, kmeans.labels_)\n",
    "\n",
    "# Create the elbow plot\n",
    "create_elbow_plot(combined_vectors)"
   ]
  }
 ],
 "metadata": {
  "kernelspec": {
   "display_name": "Python 3",
   "language": "python",
   "name": "python3"
  },
  "language_info": {
   "codemirror_mode": {
    "name": "ipython",
    "version": 3
   },
   "file_extension": ".py",
   "mimetype": "text/x-python",
   "name": "python",
   "nbconvert_exporter": "python",
   "pygments_lexer": "ipython3",
   "version": "3.10.5"
  }
 },
 "nbformat": 4,
 "nbformat_minor": 2
}
