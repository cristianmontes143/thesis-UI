{
 "cells": [
  {
   "cell_type": "code",
   "execution_count": 1,
   "metadata": {},
   "outputs": [],
   "source": [
    "import numpy as np\n",
    "from scipy.cluster.hierarchy import linkage, dendrogram\n",
    "import pandas as pd\n",
    "import seaborn as sns\n",
    "from sklearn import linear_model"
   ]
  },
  {
   "cell_type": "code",
   "execution_count": 6,
   "metadata": {},
   "outputs": [],
   "source": [
    "data = pd.read_csv('FinalDataF.csv', encoding='latin-1')"
   ]
  },
  {
   "cell_type": "code",
   "execution_count": 7,
   "metadata": {},
   "outputs": [
    {
     "data": {
      "text/html": [
       "<div>\n",
       "<style scoped>\n",
       "    .dataframe tbody tr th:only-of-type {\n",
       "        vertical-align: middle;\n",
       "    }\n",
       "\n",
       "    .dataframe tbody tr th {\n",
       "        vertical-align: top;\n",
       "    }\n",
       "\n",
       "    .dataframe thead th {\n",
       "        text-align: right;\n",
       "    }\n",
       "</style>\n",
       "<table border=\"1\" class=\"dataframe\">\n",
       "  <thead>\n",
       "    <tr style=\"text-align: right;\">\n",
       "      <th></th>\n",
       "      <th>Title</th>\n",
       "      <th>Abstract</th>\n",
       "    </tr>\n",
       "  </thead>\n",
       "  <tbody>\n",
       "    <tr>\n",
       "      <th>0</th>\n",
       "      <td>A CASE STUDY OF DRIVER'S LICENSE PROCESSES ON ...</td>\n",
       "      <td>A Case Study on Driver's License Processes was...</td>\n",
       "    </tr>\n",
       "    <tr>\n",
       "      <th>1</th>\n",
       "      <td>A CASE STUDY ON POULTRY EGG PRODUCTION BUSINESS</td>\n",
       "      <td>A Case Study on Poultry Egg Production Busines...</td>\n",
       "    </tr>\n",
       "    <tr>\n",
       "      <th>2</th>\n",
       "      <td>DESIGN AND DEVELOPMENT OF A FIRE DETECTION AND...</td>\n",
       "      <td>A fire detection and alarm system prototype ba...</td>\n",
       "    </tr>\n",
       "    <tr>\n",
       "      <th>3</th>\n",
       "      <td>A KNOWLEDGE-BASED SYSTEM N MATCHING TREE, PLAN...</td>\n",
       "      <td>A Knowledge-Based System on Matching of Tree, ...</td>\n",
       "    </tr>\n",
       "    <tr>\n",
       "      <th>4</th>\n",
       "      <td>DESIGN AND DEVELOPMENT OF MEMORANDUM PRIORITIZ...</td>\n",
       "      <td>A memorandum is a means of inter-office corres...</td>\n",
       "    </tr>\n",
       "    <tr>\n",
       "      <th>...</th>\n",
       "      <td>...</td>\n",
       "      <td>...</td>\n",
       "    </tr>\n",
       "    <tr>\n",
       "      <th>375</th>\n",
       "      <td>NaN</td>\n",
       "      <td>NaN</td>\n",
       "    </tr>\n",
       "    <tr>\n",
       "      <th>376</th>\n",
       "      <td>NaN</td>\n",
       "      <td>NaN</td>\n",
       "    </tr>\n",
       "    <tr>\n",
       "      <th>377</th>\n",
       "      <td>NaN</td>\n",
       "      <td>NaN</td>\n",
       "    </tr>\n",
       "    <tr>\n",
       "      <th>378</th>\n",
       "      <td>NaN</td>\n",
       "      <td>NaN</td>\n",
       "    </tr>\n",
       "    <tr>\n",
       "      <th>379</th>\n",
       "      <td>NaN</td>\n",
       "      <td>NaN</td>\n",
       "    </tr>\n",
       "  </tbody>\n",
       "</table>\n",
       "<p>380 rows × 2 columns</p>\n",
       "</div>"
      ],
      "text/plain": [
       "                                                 Title  \\\n",
       "0    A CASE STUDY OF DRIVER'S LICENSE PROCESSES ON ...   \n",
       "1      A CASE STUDY ON POULTRY EGG PRODUCTION BUSINESS   \n",
       "2    DESIGN AND DEVELOPMENT OF A FIRE DETECTION AND...   \n",
       "3    A KNOWLEDGE-BASED SYSTEM N MATCHING TREE, PLAN...   \n",
       "4    DESIGN AND DEVELOPMENT OF MEMORANDUM PRIORITIZ...   \n",
       "..                                                 ...   \n",
       "375                                                NaN   \n",
       "376                                                NaN   \n",
       "377                                                NaN   \n",
       "378                                                NaN   \n",
       "379                                                NaN   \n",
       "\n",
       "                                              Abstract  \n",
       "0    A Case Study on Driver's License Processes was...  \n",
       "1    A Case Study on Poultry Egg Production Busines...  \n",
       "2    A fire detection and alarm system prototype ba...  \n",
       "3    A Knowledge-Based System on Matching of Tree, ...  \n",
       "4    A memorandum is a means of inter-office corres...  \n",
       "..                                                 ...  \n",
       "375                                                NaN  \n",
       "376                                                NaN  \n",
       "377                                                NaN  \n",
       "378                                                NaN  \n",
       "379                                                NaN  \n",
       "\n",
       "[380 rows x 2 columns]"
      ]
     },
     "execution_count": 7,
     "metadata": {},
     "output_type": "execute_result"
    }
   ],
   "source": [
    "data"
   ]
  }
 ],
 "metadata": {
  "kernelspec": {
   "display_name": "base",
   "language": "python",
   "name": "python3"
  },
  "language_info": {
   "codemirror_mode": {
    "name": "ipython",
    "version": 3
   },
   "file_extension": ".py",
   "mimetype": "text/x-python",
   "name": "python",
   "nbconvert_exporter": "python",
   "pygments_lexer": "ipython3",
   "version": "3.11.4"
  },
  "orig_nbformat": 4
 },
 "nbformat": 4,
 "nbformat_minor": 2
}
