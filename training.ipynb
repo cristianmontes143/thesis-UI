{
 "cells": [
  {
   "cell_type": "code",
   "execution_count": 39,
   "metadata": {},
   "outputs": [],
   "source": [
    "import pandas as pd\n",
    "import string\n",
    "from nltk.corpus import stopwords\n",
    "import nltk\n",
    "import torch\n",
    "from transformers import BertTokenizer, BertModel\n",
    "import numpy as np\n",
    "from sklearn.metrics import silhouette_score\n",
    "from sklearn.preprocessing import StandardScaler\n",
    "from sklearn.decomposition import PCA\n",
    "from scipy.cluster.hierarchy import dendrogram, linkage, fcluster\n",
    "import matplotlib.pyplot as plt"
   ]
  },
  {
   "cell_type": "code",
   "execution_count": 29,
   "metadata": {},
   "outputs": [
    {
     "name": "stderr",
     "output_type": "stream",
     "text": [
      "[nltk_data] Downloading package punkt to\n",
      "[nltk_data]     C:\\Users\\USER\\AppData\\Roaming\\nltk_data...\n",
      "[nltk_data]   Package punkt is already up-to-date!\n",
      "[nltk_data] Downloading package stopwords to\n",
      "[nltk_data]     C:\\Users\\USER\\AppData\\Roaming\\nltk_data...\n",
      "[nltk_data]   Package stopwords is already up-to-date!\n"
     ]
    },
    {
     "data": {
      "text/plain": [
       "True"
      ]
     },
     "execution_count": 29,
     "metadata": {},
     "output_type": "execute_result"
    }
   ],
   "source": [
    "# Download NLTK data if not already downloaded\n",
    "nltk.download('punkt')\n",
    "nltk.download('stopwords')"
   ]
  },
  {
   "cell_type": "code",
   "execution_count": 5,
   "metadata": {},
   "outputs": [],
   "source": [
    "# Load the pre-trained BERT model and tokenizer\n",
    "tokenizer = BertTokenizer.from_pretrained('bert-base-uncased')\n",
    "model = BertModel.from_pretrained('bert-base-uncased')"
   ]
  },
  {
   "cell_type": "code",
   "execution_count": 6,
   "metadata": {},
   "outputs": [],
   "source": [
    "# Function to remove punctuation\n",
    "def remove_punctuation(text):\n",
    "    translator = str.maketrans('', '', string.punctuation)\n",
    "    text_without_punct = text.translate(translator)\n",
    "    return text_without_punct\n",
    "\n",
    "# Function to lowercase text\n",
    "def lowercase_text(text):\n",
    "    return text.lower()\n",
    "\n",
    "# Function to remove stop words\n",
    "def remove_stop_words(text):\n",
    "    stop_words = set(stopwords.words('english'))\n",
    "    words = nltk.word_tokenize(text)\n",
    "    filtered_words = [word for word in words if word.lower() not in stop_words]\n",
    "    return ' '.join(filtered_words)\n",
    "\n",
    "# Function to get BERT embeddings\n",
    "def get_bert_embeddings(text):\n",
    "    # Tokenize the text and convert it to input IDs\n",
    "    inputs = tokenizer(text, return_tensors='pt', padding=True, truncation=True)\n",
    "    with torch.no_grad():\n",
    "        outputs = model(**inputs)\n",
    "    # Extract the embeddings for the [CLS] token (you can also use [CLS], [SEP], or average over all tokens)\n",
    "    embeddings = outputs.last_hidden_state[:, 0, :]\n",
    "    return embeddings.tolist()\n"
   ]
  },
  {
   "cell_type": "code",
   "execution_count": 7,
   "metadata": {},
   "outputs": [],
   "source": [
    "# Read the CSV file\n",
    "data = pd.read_csv('FinalDataF.csv', encoding='latin-1')\n"
   ]
  },
  {
   "cell_type": "code",
   "execution_count": 8,
   "metadata": {},
   "outputs": [],
   "source": [
    "# Merge the 'Title' and 'Abstract' columns into a single column called 'Text'\n",
    "data['Text'] = data['Title'].fillna('') + ' ' + data['Abstract'].fillna('')\n"
   ]
  },
  {
   "cell_type": "code",
   "execution_count": 11,
   "metadata": {},
   "outputs": [
    {
     "data": {
      "text/html": [
       "<div>\n",
       "<style scoped>\n",
       "    .dataframe tbody tr th:only-of-type {\n",
       "        vertical-align: middle;\n",
       "    }\n",
       "\n",
       "    .dataframe tbody tr th {\n",
       "        vertical-align: top;\n",
       "    }\n",
       "\n",
       "    .dataframe thead th {\n",
       "        text-align: right;\n",
       "    }\n",
       "</style>\n",
       "<table border=\"1\" class=\"dataframe\">\n",
       "  <thead>\n",
       "    <tr style=\"text-align: right;\">\n",
       "      <th></th>\n",
       "      <th>Title</th>\n",
       "      <th>Abstract</th>\n",
       "      <th>Text</th>\n",
       "      <th>Text_Embeddings</th>\n",
       "    </tr>\n",
       "  </thead>\n",
       "  <tbody>\n",
       "    <tr>\n",
       "      <th>0</th>\n",
       "      <td>A CASE STUDY OF DRIVER'S LICENSE PROCESSES ON ...</td>\n",
       "      <td>A Case Study on Driver's License Processes was...</td>\n",
       "      <td>A CASE STUDY OF DRIVER'S LICENSE PROCESSES ON ...</td>\n",
       "      <td>[[-0.2696315050125122, 0.4658562242984772, 0.1...</td>\n",
       "    </tr>\n",
       "    <tr>\n",
       "      <th>1</th>\n",
       "      <td>A CASE STUDY ON POULTRY EGG PRODUCTION BUSINESS</td>\n",
       "      <td>A Case Study on Poultry Egg Production Busines...</td>\n",
       "      <td>A CASE STUDY ON POULTRY EGG PRODUCTION BUSINES...</td>\n",
       "      <td>[[-0.19400064647197723, 0.14520061016082764, 0...</td>\n",
       "    </tr>\n",
       "    <tr>\n",
       "      <th>2</th>\n",
       "      <td>DESIGN AND DEVELOPMENT OF A FIRE DETECTION AND...</td>\n",
       "      <td>A fire detection and alarm system prototype ba...</td>\n",
       "      <td>DESIGN AND DEVELOPMENT OF A FIRE DETECTION AND...</td>\n",
       "      <td>[[-0.36610913276672363, 0.3781452476978302, 0....</td>\n",
       "    </tr>\n",
       "    <tr>\n",
       "      <th>3</th>\n",
       "      <td>A KNOWLEDGE-BASED SYSTEM N MATCHING TREE, PLAN...</td>\n",
       "      <td>A Knowledge-Based System on Matching of Tree, ...</td>\n",
       "      <td>A KNOWLEDGE-BASED SYSTEM N MATCHING TREE, PLAN...</td>\n",
       "      <td>[[-0.21695567667484283, 0.3216736614704132, 0....</td>\n",
       "    </tr>\n",
       "    <tr>\n",
       "      <th>4</th>\n",
       "      <td>DESIGN AND DEVELOPMENT OF MEMORANDUM PRIORITIZ...</td>\n",
       "      <td>A memorandum is a means of inter-office corres...</td>\n",
       "      <td>DESIGN AND DEVELOPMENT OF MEMORANDUM PRIORITIZ...</td>\n",
       "      <td>[[-0.7062616944313049, 0.24063676595687866, 0....</td>\n",
       "    </tr>\n",
       "  </tbody>\n",
       "</table>\n",
       "</div>"
      ],
      "text/plain": [
       "                                               Title  \\\n",
       "0  A CASE STUDY OF DRIVER'S LICENSE PROCESSES ON ...   \n",
       "1    A CASE STUDY ON POULTRY EGG PRODUCTION BUSINESS   \n",
       "2  DESIGN AND DEVELOPMENT OF A FIRE DETECTION AND...   \n",
       "3  A KNOWLEDGE-BASED SYSTEM N MATCHING TREE, PLAN...   \n",
       "4  DESIGN AND DEVELOPMENT OF MEMORANDUM PRIORITIZ...   \n",
       "\n",
       "                                            Abstract  \\\n",
       "0  A Case Study on Driver's License Processes was...   \n",
       "1  A Case Study on Poultry Egg Production Busines...   \n",
       "2  A fire detection and alarm system prototype ba...   \n",
       "3  A Knowledge-Based System on Matching of Tree, ...   \n",
       "4  A memorandum is a means of inter-office corres...   \n",
       "\n",
       "                                                Text  \\\n",
       "0  A CASE STUDY OF DRIVER'S LICENSE PROCESSES ON ...   \n",
       "1  A CASE STUDY ON POULTRY EGG PRODUCTION BUSINES...   \n",
       "2  DESIGN AND DEVELOPMENT OF A FIRE DETECTION AND...   \n",
       "3  A KNOWLEDGE-BASED SYSTEM N MATCHING TREE, PLAN...   \n",
       "4  DESIGN AND DEVELOPMENT OF MEMORANDUM PRIORITIZ...   \n",
       "\n",
       "                                     Text_Embeddings  \n",
       "0  [[-0.2696315050125122, 0.4658562242984772, 0.1...  \n",
       "1  [[-0.19400064647197723, 0.14520061016082764, 0...  \n",
       "2  [[-0.36610913276672363, 0.3781452476978302, 0....  \n",
       "3  [[-0.21695567667484283, 0.3216736614704132, 0....  \n",
       "4  [[-0.7062616944313049, 0.24063676595687866, 0....  "
      ]
     },
     "execution_count": 11,
     "metadata": {},
     "output_type": "execute_result"
    }
   ],
   "source": [
    "def preprocess_and_get_embeddings(row):\n",
    "    text = row['Text']\n",
    "\n",
    "    text = remove_punctuation(text)\n",
    "    text = lowercase_text(text)\n",
    "    text = remove_stop_words(text)\n",
    "    embeddings = get_bert_embeddings(text)\n",
    "\n",
    "    return pd.Series({'Text_Embeddings': embeddings})\n",
    "\n",
    "data.head()"
   ]
  },
  {
   "cell_type": "code",
   "execution_count": 10,
   "metadata": {},
   "outputs": [],
   "source": [
    "# Apply the preprocessing and embedding function to each row of the DataFrame\n",
    "embeddings_data = data.apply(preprocess_and_get_embeddings, axis=1)\n",
    "\n",
    "# Concatenate the embeddings with the original DataFrame\n",
    "data = pd.concat([data, embeddings_data], axis=1)\n",
    "\n",
    "# Reshape the text embeddings to 2D\n",
    "text_embeddings = np.array(data['Text_Embeddings'].tolist())\n"
   ]
  },
  {
   "cell_type": "code",
   "execution_count": 15,
   "metadata": {},
   "outputs": [
    {
     "name": "stdout",
     "output_type": "stream",
     "text": [
      "(380, 1, 768)\n"
     ]
    }
   ],
   "source": [
    "# Check the shape of text_embeddings\n",
    "print(text_embeddings.shape)  # Should be (number_of_samples, embedding_dimension)\n"
   ]
  },
  {
   "cell_type": "code",
   "execution_count": 16,
   "metadata": {},
   "outputs": [],
   "source": [
    "# Standardize the embeddings\n",
    "scaler = StandardScaler()\n",
    "text_embeddings_reshaped = text_embeddings.reshape(text_embeddings.shape[0], -1)\n",
    "text_embeddings_scaled = scaler.fit_transform(text_embeddings_reshaped)\n"
   ]
  },
  {
   "cell_type": "code",
   "execution_count": 17,
   "metadata": {},
   "outputs": [],
   "source": [
    "# Reduce dimensionality with PCA for efficiency\n",
    "pca = PCA(n_components=0.95)  # Retain 95% of the variance\n",
    "text_embeddings_pca = pca.fit_transform(text_embeddings_scaled)"
   ]
  },
  {
   "cell_type": "code",
   "execution_count": 32,
   "metadata": {},
   "outputs": [],
   "source": [
    "# Use linkage and fcluster from scipy for hierarchical clustering\n",
    "Z = linkage(text_embeddings_pca, method='ward')\n",
    "max_d = 10  # You can adjust this threshold as needed\n",
    "text_cluster_labels = fcluster(Z, max_d, criterion='distance')\n",
    "\n",
    "# Add cluster labels to the DataFrame for text embeddings\n",
    "data['Text_Cluster'] = text_cluster_labels\n",
    "\n",
    "# Save the DataFrame with embeddings and clusters to a new CSV file\n",
    "data.to_csv('clusters.csv', index=False)"
   ]
  },
  {
   "cell_type": "code",
   "execution_count": 40,
   "metadata": {},
   "outputs": [
    {
     "data": {
      "image/png": "[encoded data removed]",
      "text/plain": [
       "<Figure size 1000x600 with 1 Axes>"
      ]
     },
     "metadata": {},
     "output_type": "display_data"
    }
   ],
   "source": [
    "# Visualize the clusters using PCA for dimensionality reduction (2D)\n",
    "pca = PCA(n_components=2)\n",
    "text_embeddings_2d = pca.fit_transform(text_embeddings_scaled)\n",
    "\n",
    "# Create a scatter plot to visualize clusters\n",
    "plt.figure(figsize=(10, 6))\n",
    "colors = plt.cm.nipy_spectral(text_cluster_labels.astype(float) / best_n_clusters)\n",
    "plt.scatter(text_embeddings_2d[:, 0], text_embeddings_2d[:, 1], c=colors, marker='o', s=50)\n",
    "plt.title('Hierarchical Clustering (DIANA) - PCA Reduced (2D)')\n",
    "plt.xlabel('PCA Dimension 1')\n",
    "plt.ylabel('PCA Dimension 2')\n",
    "plt.show()"
   ]
  }
 ],
 "metadata": {
  "kernelspec": {
   "display_name": "Python 3",
   "language": "python",
   "name": "python3"
  },
  "language_info": {
   "codemirror_mode": {
    "name": "ipython",
    "version": 3
   },
   "file_extension": ".py",
   "mimetype": "text/x-python",
   "name": "python",
   "nbconvert_exporter": "python",
   "pygments_lexer": "ipython3",
   "version": "3.10.5"
  },
  "orig_nbformat": 4
 },
 "nbformat": 4,
 "nbformat_minor": 2
}
